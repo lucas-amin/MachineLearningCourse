{
 "cells": [
  {
   "cell_type": "code",
   "execution_count": null,
   "metadata": {},
   "outputs": [],
   "source": [
    "import numpy as np\n",
    "import pandas as pd\n",
    "from sklearn import *\n",
    "import nltk, datetime\n",
    "import matplotlib.pyplot as plt\n",
    "from math import ceil\n",
    "import seaborn as sns\n",
    "from collections import defaultdict"
   ]
  },
  {
   "cell_type": "code",
   "execution_count": null,
   "metadata": {},
   "outputs": [],
   "source": [
    "train = pd.read_csv('../sales_train_v2.csv')\n",
    "test = pd.read_csv('../test.csv')\n",
    "submission = pd.read_csv('../sample_submission.csv')\n",
    "items = pd.read_csv('../items.csv')\n",
    "item_cats = pd.read_csv('../item_categories.csv')\n",
    "shops = pd.read_csv('../shops.csv')\n",
    "print('train:', train.shape, 'test:', test.shape)"
   ]
  },
  {
   "cell_type": "code",
   "execution_count": null,
   "metadata": {},
   "outputs": [],
   "source": [
    "grouped = pd.DataFrame(train.groupby(['shop_id', 'date_block_num'])['item_cnt_day'].sum().reset_index())\n",
    "\n",
    "max_date_block = max(grouped_mean['date_block_num'])\n",
    "used_shop_ids = 0\n",
    "\n",
    "lista = [0] * (max_date_block + 1)\n",
    "\n",
    "for shop_id in set(grouped['shop_id'].values):\n",
    "    grouped_shop_id = grouped.loc[grouped['shop_id'] == shop_id]\n",
    "    if(len(grouped_shop_id.values) > 32):\n",
    "        used_shop_ids+=1\n",
    "        for item in range(len(grouped_shop_id.values)):\n",
    "            lista[item] += grouped_shop_id.values[item][2]\n",
    "        \n",
    "for i in range(len(lista)):\n",
    "    lista[i] = lista[i] / used_shop_ids\n",
    "\n",
    "plot = sns.pointplot(x=range(34),y=lista)\n",
    "plot.set_title(\"Mean quantity of items sold by all stores\")\n",
    "plot.set_ylabel(\"Quantity of items sold\")\n",
    "plot.set_xlabel(\"Date block number\")"
   ]
  }
 ],
 "metadata": {
  "kernelspec": {
   "display_name": "Python 2",
   "language": "python",
   "name": "python2"
  },
  "language_info": {
   "codemirror_mode": {
    "name": "ipython",
    "version": 2
   },
   "file_extension": ".py",
   "mimetype": "text/x-python",
   "name": "python",
   "nbconvert_exporter": "python",
   "pygments_lexer": "ipython2",
   "version": "2.7.14"
  }
 },
 "nbformat": 4,
 "nbformat_minor": 2
}
