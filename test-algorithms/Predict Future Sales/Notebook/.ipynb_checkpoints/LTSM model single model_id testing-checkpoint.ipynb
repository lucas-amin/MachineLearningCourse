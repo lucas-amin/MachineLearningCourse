{
 "cells": [
  {
   "cell_type": "code",
   "execution_count": 1,
   "metadata": {},
   "outputs": [
    {
     "name": "stderr",
     "output_type": "stream",
     "text": [
      "C:\\Users\\lucas\\Anaconda3\\envs\\Kaggle\\lib\\site-packages\\sklearn\\cross_validation.py:41: DeprecationWarning: This module was deprecated in version 0.18 in favor of the model_selection module into which all the refactored classes and functions are moved. Also note that the interface of the new CV iterators are different from that of this module. This module will be removed in 0.20.\n",
      "  \"This module will be removed in 0.20.\", DeprecationWarning)\n",
      "C:\\Users\\lucas\\Anaconda3\\envs\\Kaggle\\lib\\site-packages\\sklearn\\grid_search.py:42: DeprecationWarning: This module was deprecated in version 0.18 in favor of the model_selection module into which all the refactored classes and functions are moved. This module will be removed in 0.20.\n",
      "  DeprecationWarning)\n",
      "C:\\Users\\lucas\\Anaconda3\\envs\\Kaggle\\lib\\site-packages\\sklearn\\learning_curve.py:22: DeprecationWarning: This module was deprecated in version 0.18 in favor of the model_selection module into which all the functions are moved. This module will be removed in 0.20\n",
      "  DeprecationWarning)\n"
     ]
    }
   ],
   "source": [
    "import numpy as np\n",
    "import pandas as pd\n",
    "from sklearn import *\n",
    "import nltk, datetime\n",
    "from matplotlib import pylab as plt\n",
    "\n",
    "directory = '../data/'\n",
    "train = pd.read_csv(directory + 'sales_train_v2.csv', parse_dates=['date'], infer_datetime_format=True, dayfirst=True)\n",
    "test = pd.read_csv(directory + 'test.csv')\n",
    "submission = pd.read_csv(directory + 'sample_submission.csv')\n",
    "items = pd.read_csv(directory + 'items.csv')\n",
    "item_cats = pd.read_csv(directory + 'item_categories.csv')\n",
    "shops = pd.read_csv(directory + 'shops.csv')\n",
    "\n",
    "num_month = train['date_block_num'].max()"
   ]
  },
  {
   "cell_type": "code",
   "execution_count": 2,
   "metadata": {},
   "outputs": [],
   "source": [
    "train_clean = train.drop(labels = ['date', 'item_price'], axis = 1)\n",
    "# change the item count per day to item count per month by using group\n",
    "train_clean = train_clean.groupby([\"item_id\",\"shop_id\",\"date_block_num\"]).sum().reset_index()\n",
    "train_clean = train_clean.rename(index=str, columns = {\"item_cnt_day\":\"item_cnt_month\"})\n",
    "train_clean = train_clean[[\"item_id\",\"shop_id\",\"date_block_num\",\"item_cnt_month\"]]\n",
    "\n",
    "check = train_clean[[\"shop_id\",\"item_id\",\"date_block_num\",\"item_cnt_month\"]]\n",
    "# check = check.loc[check['shop_id'] == 5]\n",
    "# check = check.loc[check['item_id'] == 5037]"
   ]
  },
  {
   "cell_type": "code",
   "execution_count": 3,
   "metadata": {},
   "outputs": [],
   "source": [
    "UNIQUE_SHOP = False\n",
    "\n",
    "month_list=[i for i in range(num_month+1)]\n",
    "shop = []\n",
    "for i in range(num_month+1):\n",
    "    shop.append(5)\n",
    "item = []\n",
    "for i in range(num_month+1):\n",
    "    item.append(5037)\n",
    "    \n",
    "if (UNIQUE_SHOP):\n",
    "    months_full = pd.DataFrame({'shop_id':shop, 'item_id':item,'date_block_num':month_list})\n",
    "    sales_33month = pd.merge(check, months_full, how='right', on=['shop_id','item_id','date_block_num'])    \n",
    "else:\n",
    "    months_full = pd.DataFrame({'date_block_num':month_list})\n",
    "    sales_33month = pd.merge(check, months_full, how='right', on=['date_block_num'])\n",
    "\n",
    "sales_33month = sales_33month.sort_values(by=['date_block_num'])\n",
    "sales_33month.fillna(0.00,inplace=True)\n",
    "\n",
    "for i in range(1,6):\n",
    "    sales_33month[\"T_\" + str(i)] = sales_33month.item_cnt_month.shift(i)\n",
    "sales_33month.fillna(0.0, inplace=True)"
   ]
  },
  {
   "cell_type": "code",
   "execution_count": 4,
   "metadata": {},
   "outputs": [],
   "source": [
    "df = sales_33month[['shop_id','item_id','date_block_num','T_1','T_2','T_3','T_4','T_5', 'item_cnt_month']].reset_index()\n",
    "df = df.drop(labels = ['index'], axis = 1)\n",
    "train_df = df[:-10000]\n",
    "val_df = df[-10000:]\n",
    "x_train = train_df.groupby(['item_id', 'date_block_num', 'shop_id']).mean()\n",
    "y_train = x_train.item_cnt_month\n",
    "x_train = x_train.drop([\"item_cnt_month\"], axis=1)\n",
    "\n",
    "x_val, y_val = val_df.drop([\"item_cnt_month\"],axis=1),val_df.item_cnt_month\n",
    "x_val = x_val.groupby(['item_id', 'date_block_num', 'shop_id']).mean()"
   ]
  },
  {
   "cell_type": "code",
   "execution_count": 5,
   "metadata": {},
   "outputs": [
    {
     "name": "stderr",
     "output_type": "stream",
     "text": [
      "C:\\Users\\lucas\\Anaconda3\\envs\\Kaggle\\lib\\site-packages\\h5py\\__init__.py:36: FutureWarning: Conversion of the second argument of issubdtype from `float` to `np.floating` is deprecated. In future, it will be treated as `np.float64 == np.dtype(float).type`.\n",
      "  from ._conv import register_converters as _register_converters\n",
      "Using TensorFlow backend.\n"
     ]
    }
   ],
   "source": [
    "from keras.models import Sequential\n",
    "from keras.layers import Dense\n",
    "from keras.layers import LSTM\n",
    "model = Sequential()\n",
    "\n",
    "model.add(LSTM(5, return_sequences=True, input_shape=(1, 5)))\n",
    "model.add(LSTM(5))\n",
    "model.add(Dense(1))\n",
    "          \n",
    "model.compile(loss='mean_squared_error', optimizer='adam', metrics=['accuracy'])\n",
    "\n",
    "# Reshape the data between -1 and 1 and to 3D\n",
    "from sklearn.preprocessing import StandardScaler,MinMaxScaler\n",
    "scaler = StandardScaler()\n",
    "scaler = MinMaxScaler(feature_range=(-1, 1))\n",
    "x_train_scaled = scaler.fit_transform(x_train)\n",
    "x_valid_scaled = scaler.fit_transform(x_val)"
   ]
  },
  {
   "cell_type": "code",
   "execution_count": null,
   "metadata": {},
   "outputs": [
    {
     "name": "stdout",
     "output_type": "stream",
     "text": [
      "Train on 1599124 samples, validate on 10000 samples\n",
      "Epoch 1/5\n",
      "  63490/1599124 [>.............................] - ETA: 11:01 - loss: 66.8625 - acc: 0.1724"
     ]
    }
   ],
   "source": [
    "x_train_reshaped = x_train_scaled.reshape((x_train_scaled.shape[0], 1, x_train_scaled.shape[1]))\n",
    "x_val_resaped = x_valid_scaled.reshape((x_valid_scaled.shape[0], 1, x_valid_scaled.shape[1]))\n",
    "\n",
    "history = model.fit(x_train_reshaped, y_train, validation_data=(x_val_resaped, y_val),epochs=5, batch_size=10, verbose=1, shuffle=True)\n",
    "y_pre = model.predict(x_val_resaped)"
   ]
  },
  {
   "cell_type": "code",
   "execution_count": null,
   "metadata": {},
   "outputs": [],
   "source": [
    "fig, ax = plt.subplots()\n",
    "ax.plot(x_val['date_block_num'], y_val, label='Actual')\n",
    "ax.plot(x_val['date_block_num'], y_pre, label='Predicted')\n",
    "plt.title('LSTM Prediction vs Actual Sales for last 3 months')\n",
    "plt.xlabel('Month')\n",
    "plt.xticks(x_val['date_block_num'])\n",
    "plt.ylabel('Sales of Item 5037 at Shop 5')\n",
    "ax.legend()\n",
    "plt.show()"
   ]
  },
  {
   "cell_type": "code",
   "execution_count": null,
   "metadata": {},
   "outputs": [],
   "source": [
    "from sklearn.metrics import mean_squared_error\n",
    "from numpy import sqrt\n",
    "rmse = sqrt(mean_squared_error(y_val,y_pre))\n",
    "print('Val RMSE: %.3f' % rmse)"
   ]
  },
  {
   "cell_type": "code",
   "execution_count": null,
   "metadata": {},
   "outputs": [],
   "source": []
  }
 ],
 "metadata": {
  "kernelspec": {
   "display_name": "Python [conda env:Kaggle]",
   "language": "python",
   "name": "conda-env-Kaggle-py"
  },
  "language_info": {
   "codemirror_mode": {
    "name": "ipython",
    "version": 3
   },
   "file_extension": ".py",
   "mimetype": "text/x-python",
   "name": "python",
   "nbconvert_exporter": "python",
   "pygments_lexer": "ipython3",
   "version": "3.6.5"
  }
 },
 "nbformat": 4,
 "nbformat_minor": 2
}
